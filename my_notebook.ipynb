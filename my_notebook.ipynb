{
 "cells": [
  {
   "cell_type": "code",
   "execution_count": 2,
   "metadata": {},
   "outputs": [],
   "source": [
    "from difflib import SequenceMatcher\n",
    "from difflib import Differ\n",
    "import pandas as pd\n",
    "from IPython.display import Markdown"
   ]
  },
  {
   "cell_type": "markdown",
   "metadata": {},
   "source": [
    "# Plain markdown #"
   ]
  },
  {
   "cell_type": "code",
   "execution_count": 3,
   "metadata": {},
   "outputs": [],
   "source": [
    "df = pd.read_excel(\"Cleaned-Jade-Text-Data.xls\").fillna(\"\")"
   ]
  },
  {
   "cell_type": "markdown",
   "metadata": {},
   "source": []
  },
  {
   "cell_type": "code",
   "execution_count": null,
   "metadata": {},
   "outputs": [],
   "source": []
  },
  {
   "cell_type": "markdown",
   "metadata": {},
   "source": [
    "In a Jupyter notebook we can use IPython.display's Markdown function (imported above) to render the markdown:"
   ]
  },
  {
   "cell_type": "code",
   "execution_count": 4,
   "metadata": {
    "scrolled": true
   },
   "outputs": [
    {
     "name": "stdout",
     "output_type": "stream",
     "text": [
      "Sample from output:\n",
      "<span class='equal'>玉椀來回部輸誠供闔閶召公懷不寶韓子戒無當異致白毛鹿引恬頳尾魴</span><span class='insert'> 回部葉爾奇木哈什哈爾初役屬於準噶爾為所拘縶因我大軍戡定伊犁始釋之令歸所部其長伯克和卓遣使求內屬此其所貢也 </span><span class='equal'>勞徠非力并天眷奉昭彰</span><span class='insert'> <span class=\"parenthesis\">(this is an experimental remark)</span></span>\n",
      "<span class='equal'>玉盤博徑得二尺圍六尺有去聲五寸益虛中盛水受一石素質不雕其色碧 旁達孚尹瓊華澤葆光撫不留手跡</span><span class='delete'>群</span><span class='insert'>羣</span><span class='equal'>玉之精出</span><span class='delete'>昆侖</span><span class='insert'>菎崙</span><span cl\n"
     ]
    }
   ],
   "source": [
    "output = \"\"\n",
    "\n",
    "for row in df.iterrows():\n",
    "    text1 = row[1][1]\n",
    "    text2 = row[1][2]\n",
    "    comparison = SequenceMatcher(None, text1, text2)\n",
    "    opcodes = comparison.get_opcodes()\n",
    "    for segment in opcodes:\n",
    "        if segment[0] == 'equal':\n",
    "            output += f\"<span class='equal'>{text1[segment[1]:segment[2]]}</span>\"\n",
    "        if segment[0] == 'replace':\n",
    "            output += f\"<span class='delete'>{text1[segment[1]:segment[2]]}</span>\"\n",
    "            output += f\"<span class='insert'>{text2[segment[3]:segment[4]]}</span>\"\n",
    "        if segment[0] == 'insert':\n",
    "            output += f\"<span class='insert'>{text2[segment[3]:segment[4]]}</span>\"\n",
    "        if segment[0] == 'delete':\n",
    "            output += f\"<span class='delete'>{text1[segment[1]:segment[2]]}</span>\"\n",
    "    output += \"\\n\"\n",
    "    \n",
    "output = output.replace('(', '<span class=\"parenthesis\">(').replace(')', ')</span>')\n",
    "    \n",
    "print(\"Sample from output:\")\n",
    "print(output[:500])"
   ]
  },
  {
   "cell_type": "code",
   "execution_count": 5,
   "metadata": {},
   "outputs": [
    {
     "data": {
      "text/markdown": [
       "<style>                      \n",
       "    span.delete {color: #00ff00; \n",
       "                 font-size: 150%; \n",
       "                 margin: 0 3px; \n",
       "                 border: 1px solid #808080; \n",
       "                 padding: 2px;}\n",
       "    span.insert {color: #ff0000; \n",
       "                 font-size: 150%; \n",
       "                 margin: 0 3px; \n",
       "                 border: 1px solid #808080; \n",
       "                 padding: 2px;}\n",
       "    span.parenthesis {color: #aaaaaa; \n",
       "                 font-size: 75%; \n",
       "                 margin: 0 3px;}\n",
       "    </style><span class='equal'>玉椀來回部輸誠供闔閶召公懷不寶韓子戒無當異致白毛鹿引恬頳尾魴</span><span class='insert'> 回部葉爾奇木哈什哈爾初役屬於準噶爾為所拘縶因我大軍戡定伊犁始釋之令歸所部其長伯克和卓遣使求內屬此其所貢也 </span><span class='equal'>勞徠非力并天眷奉昭彰</span><span class='insert'> <span class=\"parenthesis\">(this is an experimental remark)</span></span>\n",
       "<span class='equal'>玉盤博徑得二尺圍六尺有去聲五寸益虛中盛水受一石素質不雕其色碧 旁達孚尹瓊華澤葆光撫不留手跡</span><span class='delete'>群</span><span class='insert'>羣</span><span class='equal'>玉之精出</span><span class='delete'>昆侖</span><span class='insert'>菎崙</span><span class='equal'>吉日甲子天子賓 </span><span class='delete'>於</span><span class='insert'>于</span><span class='equal'>西王母</span><span class='delete'>瑤</span><span class='insert'>瑶</span><span class='equal'>池津行觴介紹簠</span><span class='delete'>蓋樽</span><span class='insert'>簋罇</span><span class='equal'>爾時所御器今存作鎮西極永好完 未入震旦三千年問今何來不脛偶準噶爾亡淪世守阿睦撒納茲竊取 王師</span><span class='delete'>深</span><span class='insert'>罙</span><span class='equal'>入靖孽醜於將獲之</span><span class='delete'>聯</span><span class='insert'>聮</span><span cla"
      ],
      "text/plain": [
       "<IPython.core.display.Markdown object>"
      ]
     },
     "execution_count": 5,
     "metadata": {},
     "output_type": "execute_result"
    }
   ],
   "source": [
    "styleblock = \"\"\"<style>                      \n",
    "    span.delete {color: #00ff00; \n",
    "                 font-size: 150%; \n",
    "                 margin: 0 3px; \n",
    "                 border: 1px solid #808080; \n",
    "                 padding: 2px;}\n",
    "    span.insert {color: #ff0000; \n",
    "                 font-size: 150%; \n",
    "                 margin: 0 3px; \n",
    "                 border: 1px solid #808080; \n",
    "                 padding: 2px;}\n",
    "    span.parenthesis {color: #aaaaaa; \n",
    "                 font-size: 75%; \n",
    "                 margin: 0 3px;}\n",
    "    </style>\"\"\"\n",
    "\n",
    "f = open('my_test.md', 'w', encoding='utf-8')\n",
    "f.write(styleblock + '\\n' + output + '\\n')\n",
    "f.close()\n",
    "\n",
    "Markdown(styleblock + output[:1000])"
   ]
  },
  {
   "cell_type": "markdown",
   "metadata": {},
   "source": [
    "# ANSI Color Codes #"
   ]
  },
  {
   "cell_type": "code",
   "execution_count": 6,
   "metadata": {},
   "outputs": [],
   "source": [
    "from IPython.display import Markdown, display\n",
    "def printmd(string):\n",
    "    display(Markdown(string))\n",
    "yellow = '\\033[93m'\n",
    "green = '\\033[92m'\n",
    "red = '\\033[91m'\n",
    "blue = '\\033[94m'\n",
    "magenta = '\\033[35m'\n",
    "BOLD = '\\033[1m'"
   ]
  },
  {
   "cell_type": "code",
   "execution_count": 7,
   "metadata": {},
   "outputs": [
    {
     "name": "stdout",
     "output_type": "stream",
     "text": [
      "Sample from output:\n",
      "玉椀來回部輸誠供闔閶召公懷不寶韓子戒無當異致白毛鹿引恬頳尾魴\u001b[94m 回部葉爾奇木哈什哈爾初役屬於準噶爾為所拘縶因我大軍戡定伊犁始釋之令歸所部其長伯克和卓遣使求內屬此其所貢也 勞徠非力并天眷奉昭彰\u001b[94m (this is an experimental remark)\n",
      "玉盤博徑得二尺圍六尺有去聲五寸益虛中盛水受一石素質不雕其色碧 旁達孚尹瓊華澤葆光撫不留手跡\u001b[35m群\u001b[92m羣玉之精出\u001b[35m昆侖\u001b[92m菎崙吉日甲子天子賓 \u001b[35m於\u001b[92m于西王母\u001b[35m瑤\u001b[92m瑶池津行觴介紹簠\u001b[35m蓋樽\u001b[92m簋罇爾時所御器今存作鎮西極永好完 未入震旦三千年問今何來不脛偶準噶爾亡淪世守阿睦撒納茲竊取 王師\u001b[35m深\u001b[92m罙入靖孽醜於將獲之\u001b[35m聯\u001b[92m聮猭走棄其重器為我有元英大呂陳座右 咄哉玉盤徒華滋不可食兮不可衣連城價詎如窮奇俘彼禍除可罷師 前歌後舞樂雍熙\u001b[35m瑰\u001b[92m瓌玩吾將安用之擬付剿人一例椎\n",
      "于闐何必購奩環通貢薄來每厚還保定不期致\u001b[35m達\u001b[92m遠域琢磨亦復藉他山示禎碧落星辰表延喜明廷樽俎\u001b[35m問\u001b[92m間漉雪浮香真恰當思推解渴福區寰\u001b[91m \n",
      "會未于闐遣使求堅昆玉椀自來投詎云有翼千斤獻那肯無端大白浮賢問乃明君子德工言幾誤楚人璆歲時宴饗斟香茗延喜明廷弈葉庥 \n",
      "\u001b[94m玉盤聫句有序\n",
      "懐任協紀齊頌九譯之春娵訾迎韶早展重華之宴試覔新題於甲觀寧沿舊例乎辛盤則有西部輸珎尚方典器青筠浮面一雙承露交擎碧萏為趺三五曜靈滿暈始也軍諮驛逓未碎斗而楚帳烏飛繼焉屯長犁翻存竊鉤而魯庭盜走失守見可敦並棄龍沙鼂采猶韜得時思咱馬同陳魚海土花不蝕矧乃泥都椀進朝端餵肉無煩和卓篘來徼外分醪足樂維\n",
      "\n",
      "鴻庥告永清之會正神物昭終合之期既偕地出圜鐘元氣兼通乎/異域還應霄呈疊璧貞符適葉於前年當茲什龍初披六巡載詠禁中頗牧胥目屬以爭誇臺上鄂褒亦手捫而暗認繄爾韻催銅缽程功庶慶其得全顧予銘切金甌記實蘄箴夫持滿\n",
      "\n",
      "御製令日青宮集近臣聫吟例許列文茵\n",
      "玉盤先後來殊域石鼎推敲繼綺晨\n",
      "隔歲紫光圖凱會韶年蒼縡答精禋\n",
      "東升旭影霞初絢臣傅恒西繞山容黛半皴\n",
      "綵勝吉占迎曙燦花幡芳信飏風頻\n",
      "鶯遷柳放梭初擲臣來保魚樂冰開尾有莘\n",
      "節應棣通蠲榖旦律調泰蔟協初旬\n",
      "菜挑七種羅肴核臣劉統勛裘粲三英集組紳\n",
      "坐列共球昭拓土班添氈罽賀填闉\n",
      "辟邪遠掃天堂穴臣兆惠御製延喜遙開月竁垠\n",
      "猶憶逐犇阿睦爾因緣\n"
     ]
    }
   ],
   "source": [
    "output = \"\"\n",
    "for row in df.iterrows():\n",
    "    text1 = row[1][1]\n",
    "    text2 = row[1][2]\n",
    "    comparison = SequenceMatcher(None, text1, text2)\n",
    "    opcodes = comparison.get_opcodes()\n",
    "    for segment in opcodes:                  # using ANSI color codes to assign color to differences\n",
    "        if segment[0] == 'equal':                                      \n",
    "            output += text1[segment[1]:segment[2]]        # black means same\n",
    "        if segment[0] == 'replace':\n",
    "            output += f\"\\033[35m{text1[segment[1]:segment[2]]}\"    #magenta means inscription text \n",
    "            output += f\"\\033[92m{text2[segment[3]:segment[4]]}\"    #green means published text \n",
    "        if segment[0] == 'insert':\n",
    "            output += f\"\\033[94m{text2[segment[3]:segment[4]]}\"    \n",
    "        if segment[0] == 'delete':                                 #red means deletion \n",
    "            output += f\"\\033[91m{text1[segment[1]:segment[2]]}\"\n",
    "    output += \"\\n\"\n",
    "print(\"Sample from output:\")\n",
    "print(output[:1000])"
   ]
  },
  {
   "cell_type": "markdown",
   "metadata": {},
   "source": [
    "# Markdown StyleBlock #"
   ]
  },
  {
   "cell_type": "code",
   "execution_count": null,
   "metadata": {
    "scrolled": false
   },
   "outputs": [],
   "source": []
  },
  {
   "cell_type": "markdown",
   "metadata": {},
   "source": [
    "<style>\n",
    "span.delete {background-color: #FF0000;}\n",
    "</style>"
   ]
  },
  {
   "cell_type": "markdown",
   "metadata": {},
   "source": [
    "\n"
   ]
  },
  {
   "cell_type": "code",
   "execution_count": null,
   "metadata": {},
   "outputs": [],
   "source": []
  },
  {
   "cell_type": "markdown",
   "metadata": {},
   "source": [
    "# Testing Ways to Make Text Bold and Colored MD #"
   ]
  },
  {
   "cell_type": "code",
   "execution_count": 8,
   "metadata": {},
   "outputs": [],
   "source": [
    "from IPython.display import Markdown, display\n",
    "def printmd(string):\n",
    "    display(Markdown(string))"
   ]
  },
  {
   "cell_type": "code",
   "execution_count": 9,
   "metadata": {},
   "outputs": [
    {
     "data": {
      "text/markdown": [
       "**bold text**"
      ],
      "text/plain": [
       "<IPython.core.display.Markdown object>"
      ]
     },
     "metadata": {},
     "output_type": "display_data"
    }
   ],
   "source": [
    "printmd(\"**bold text**\")"
   ]
  },
  {
   "cell_type": "code",
   "execution_count": 10,
   "metadata": {},
   "outputs": [],
   "source": [
    "def printmd(string, color=None):\n",
    "    colorstr = \"<span style='color:{}'>{}</span>\". format(color, string) #html for color\n",
    "    display(Markdown(colorstr))"
   ]
  },
  {
   "cell_type": "code",
   "execution_count": 11,
   "metadata": {},
   "outputs": [
    {
     "data": {
      "text/markdown": [
       "<span style='color:blue'>**bold and blue**</span>"
      ],
      "text/plain": [
       "<IPython.core.display.Markdown object>"
      ]
     },
     "metadata": {},
     "output_type": "display_data"
    }
   ],
   "source": [
    "printmd(\"**bold and blue**\", color=\"blue\")"
   ]
  },
  {
   "cell_type": "code",
   "execution_count": 12,
   "metadata": {},
   "outputs": [
    {
     "name": "stdout",
     "output_type": "stream",
     "text": [
      "\u001b[93m output\n",
      "\u001b[92m output\n",
      "\u001b[91m output\n",
      "\u001b[94m output\n",
      "the output is \u001b[1mPython\u001b[0m\n"
     ]
    }
   ],
   "source": [
    "print('\\033[93m output')                           # testing escape forms for getting color and bold using python \n",
    "print('\\033[92m output')\n",
    "print('\\033[91m output')\n",
    "print('\\033[94m output')\n",
    "print(\"the output is\", '\\033[1m' + 'Python'+'\\033[0m')"
   ]
  },
  {
   "cell_type": "code",
   "execution_count": null,
   "metadata": {},
   "outputs": [],
   "source": []
  },
  {
   "cell_type": "code",
   "execution_count": null,
   "metadata": {},
   "outputs": [],
   "source": []
  }
 ],
 "metadata": {
  "kernelspec": {
   "display_name": "Python 3",
   "language": "python",
   "name": "python3"
  },
  "language_info": {
   "codemirror_mode": {
    "name": "ipython",
    "version": 3
   },
   "file_extension": ".py",
   "mimetype": "text/x-python",
   "name": "python",
   "nbconvert_exporter": "python",
   "pygments_lexer": "ipython3",
   "version": "3.7.2"
  }
 },
 "nbformat": 4,
 "nbformat_minor": 5
}
